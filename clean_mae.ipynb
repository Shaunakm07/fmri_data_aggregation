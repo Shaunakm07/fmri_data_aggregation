{
 "cells": [
  {
   "cell_type": "code",
   "execution_count": 2,
   "metadata": {},
   "outputs": [],
   "source": [
    "import torch\n",
    "import torch.nn as nn \n",
    "import numpy as np\n",
    "import matplotlib.pyplot as plt \n",
    "from torch.utils.data import Dataset\n",
    "from torch.utils.data import DataLoader"
   ]
  },
  {
   "cell_type": "code",
   "execution_count": 3,
   "metadata": {},
   "outputs": [],
   "source": [
    "DATASET_LEN = 28088\n",
    "TRAIN_TEST_RATIO = 0.9\n",
    "TRAIN_TEST_LEN = int(DATASET_LEN * TRAIN_TEST_RATIO)\n",
    "\n",
    "NUMBER_VOXELS = 81126\n",
    "DEVICE = \"mps\"\n",
    "\n",
    "LEARNING_RATE = 1e-6"
   ]
  },
  {
   "cell_type": "code",
   "execution_count": 4,
   "metadata": {},
   "outputs": [],
   "source": [
    "class test_fmri_dataset(Dataset):\n",
    "    def __init__(self):\n",
    "        super().__init__()\n",
    "\n",
    "    def __len__(self):\n",
    "        return DATASET_LEN - TRAIN_TEST_LEN\n",
    "    \n",
    "    def __getitem__(self, index):\n",
    "        data = np.load(f\"dataset/UTS01/{index + TRAIN_TEST_LEN}.npy\")\n",
    "        data = np.nan_to_num(data)\n",
    "        return torch.tensor(data,  dtype=torch.float32).unsqueeze(0)\n",
    "    \n",
    "class train_fmri_dataset(Dataset):\n",
    "    def __init__(self):\n",
    "        super().__init__()\n",
    "\n",
    "    def __len__(self):\n",
    "        return TRAIN_TEST_LEN\n",
    "    \n",
    "    def __getitem__(self, index):\n",
    "        data = np.load(f\"dataset/UTS01/{index}.npy\")\n",
    "        data = np.nan_to_num(data)\n",
    "        return torch.tensor(data,  dtype=torch.float32).unsqueeze(0)"
   ]
  },
  {
   "cell_type": "code",
   "execution_count": 5,
   "metadata": {},
   "outputs": [],
   "source": [
    "train_dataloader = DataLoader(train_fmri_dataset(), batch_size=8, shuffle=True)\n",
    "test_dataloader = DataLoader(test_fmri_dataset(), batch_size=8, shuffle=True)"
   ]
  },
  {
   "cell_type": "code",
   "execution_count": 6,
   "metadata": {},
   "outputs": [],
   "source": [
    "def train_loop(model, optimiser, epochs):\n",
    "    losses = []\n",
    "    steps = 0\n",
    "\n",
    "    for _ in range(epochs):\n",
    "        model.train(True)\n",
    "        for d, data in enumerate(train_dataloader):\n",
    "            inputs = data.to(DEVICE)\n",
    "\n",
    "            optimiser.zero_grad()\n",
    "            loss, pred = model(inputs)\n",
    "\n",
    "            print(loss)\n",
    "            loss.backward()\n",
    "            optimiser.step()\n",
    "\n",
    "            if steps%10 == 0:\n",
    "                data = next(iter(test_dataloader)).to(\"cpu\")\n",
    "                loss, pred = model(data)\n",
    "                \n",
    "                print(\"test loss ---------------------------------\")\n",
    "                print(loss)\n",
    "                losses.append(loss.item())\n",
    "\n",
    "            steps += 1\n",
    "    return losses   \n"
   ]
  },
  {
   "cell_type": "code",
   "execution_count": 7,
   "metadata": {},
   "outputs": [],
   "source": [
    "class MAE_Model(nn.Module):\n",
    "    def __init__(self):\n",
    "        super().__init__()\n",
    "        self.layer1 = nn.Linear(NUMBER_VOXELS, NUMBER_VOXELS)\n",
    "    \n",
    "    def forward(self, x):\n",
    "        output = self.layer1(x)\n",
    "        loss = nn.L1Loss(x, x)\n",
    "        \n",
    "        return loss, output"
   ]
  },
  {
   "cell_type": "code",
   "execution_count": 8,
   "metadata": {},
   "outputs": [],
   "source": [
    "model = MAE_Model()\n",
    "optimiser = torch.optim.Adam(model.parameters(), LEARNING_RATE)"
   ]
  },
  {
   "cell_type": "code",
   "execution_count": 14,
   "metadata": {},
   "outputs": [
    {
     "name": "stdout",
     "output_type": "stream",
     "text": [
      "model total paramters: 6,581,509,002\n"
     ]
    }
   ],
   "source": [
    "print(f\"model total paramters: {sum(p.numel() for p in model.parameters()):,}\")"
   ]
  },
  {
   "cell_type": "code",
   "execution_count": null,
   "metadata": {},
   "outputs": [],
   "source": [
    "losses = train_loop(model, optimiser, 1)"
   ]
  }
 ],
 "metadata": {
  "kernelspec": {
   "display_name": "deep_learning",
   "language": "python",
   "name": "python3"
  },
  "language_info": {
   "codemirror_mode": {
    "name": "ipython",
    "version": 3
   },
   "file_extension": ".py",
   "mimetype": "text/x-python",
   "name": "python",
   "nbconvert_exporter": "python",
   "pygments_lexer": "ipython3",
   "version": "3.12.4"
  }
 },
 "nbformat": 4,
 "nbformat_minor": 2
}
